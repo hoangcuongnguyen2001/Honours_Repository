{
  "cells": [
    {
      "cell_type": "markdown",
      "metadata": {
        "id": "view-in-github",
        "colab_type": "text"
      },
      "source": [
        "<a href=\"https://colab.research.google.com/github/hoangcuongnguyen2001/Honours_Repository/blob/main/predict_single_label_fine_tuned_SciBERT.ipynb\" target=\"_parent\"><img src=\"https://colab.research.google.com/assets/colab-badge.svg\" alt=\"Open In Colab\"/></a>"
      ]
    },
    {
      "cell_type": "markdown",
      "id": "W2Oju7u_Fuw8",
      "metadata": {
        "id": "W2Oju7u_Fuw8"
      },
      "source": [
        "# TRAM-LLM, Single-label\n",
        "\n",
        "[![image](https://colab.research.google.com/assets/colab-badge.svg)](https://colab.research.google.com/github/center-for-threat-informed-defense/tram/blob/main/user_notebooks/predict_single_label.ipynb)\n",
        "\n",
        "This notebook allows one to apply the single-label SciBERT model for TRAM.\n",
        "\n",
        "To start, first select `Runtime > Change runtime type`, and under `Hardware accelerator` select `GPU`. Then run the next two cells. The first cell will download the model and the Python dependencies. The second cell will load the model and set up the selectors."
      ]
    },
    {
      "cell_type": "code",
      "execution_count": 1,
      "id": "46QlB4CxCH5g",
      "metadata": {
        "id": "46QlB4CxCH5g",
        "colab": {
          "base_uri": "https://localhost:8080/"
        },
        "outputId": "c4106ebb-78aa-4b6a-ae4f-b855dce40a0d"
      },
      "outputs": [
        {
          "output_type": "stream",
          "name": "stdout",
          "text": [
            "Requirement already satisfied: torch in /usr/local/lib/python3.10/dist-packages (2.0.1+cu118)\n",
            "Collecting transformers\n",
            "  Downloading transformers-4.33.3-py3-none-any.whl (7.6 MB)\n",
            "\u001b[2K     \u001b[90m━━━━━━━━━━━━━━━━━━━━━━━━━━━━━━━━━━━━━━━━\u001b[0m \u001b[32m7.6/7.6 MB\u001b[0m \u001b[31m50.2 MB/s\u001b[0m eta \u001b[36m0:00:00\u001b[0m\n",
            "\u001b[?25hRequirement already satisfied: pandas in /usr/local/lib/python3.10/dist-packages (1.5.3)\n",
            "Collecting python-docx\n",
            "  Downloading python-docx-0.8.11.tar.gz (5.6 MB)\n",
            "\u001b[2K     \u001b[90m━━━━━━━━━━━━━━━━━━━━━━━━━━━━━━━━━━━━━━━━\u001b[0m \u001b[32m5.6/5.6 MB\u001b[0m \u001b[31m91.5 MB/s\u001b[0m eta \u001b[36m0:00:00\u001b[0m\n",
            "\u001b[?25h  Preparing metadata (setup.py) ... \u001b[?25l\u001b[?25hdone\n",
            "Collecting pdfplumber\n",
            "  Downloading pdfplumber-0.10.2-py3-none-any.whl (47 kB)\n",
            "\u001b[2K     \u001b[90m━━━━━━━━━━━━━━━━━━━━━━━━━━━━━━━━━━━━━━━━\u001b[0m \u001b[32m47.5/47.5 kB\u001b[0m \u001b[31m6.1 MB/s\u001b[0m eta \u001b[36m0:00:00\u001b[0m\n",
            "\u001b[?25hCollecting bs4\n",
            "  Downloading bs4-0.0.1.tar.gz (1.1 kB)\n",
            "  Preparing metadata (setup.py) ... \u001b[?25l\u001b[?25hdone\n",
            "Requirement already satisfied: filelock in /usr/local/lib/python3.10/dist-packages (from torch) (3.12.2)\n",
            "Requirement already satisfied: typing-extensions in /usr/local/lib/python3.10/dist-packages (from torch) (4.5.0)\n",
            "Requirement already satisfied: sympy in /usr/local/lib/python3.10/dist-packages (from torch) (1.12)\n",
            "Requirement already satisfied: networkx in /usr/local/lib/python3.10/dist-packages (from torch) (3.1)\n",
            "Requirement already satisfied: jinja2 in /usr/local/lib/python3.10/dist-packages (from torch) (3.1.2)\n",
            "Requirement already satisfied: triton==2.0.0 in /usr/local/lib/python3.10/dist-packages (from torch) (2.0.0)\n",
            "Requirement already satisfied: cmake in /usr/local/lib/python3.10/dist-packages (from triton==2.0.0->torch) (3.27.4.1)\n",
            "Requirement already satisfied: lit in /usr/local/lib/python3.10/dist-packages (from triton==2.0.0->torch) (16.0.6)\n",
            "Collecting huggingface-hub<1.0,>=0.15.1 (from transformers)\n",
            "  Downloading huggingface_hub-0.17.3-py3-none-any.whl (295 kB)\n",
            "\u001b[2K     \u001b[90m━━━━━━━━━━━━━━━━━━━━━━━━━━━━━━━━━━━━━━\u001b[0m \u001b[32m295.0/295.0 kB\u001b[0m \u001b[31m33.6 MB/s\u001b[0m eta \u001b[36m0:00:00\u001b[0m\n",
            "\u001b[?25hRequirement already satisfied: numpy>=1.17 in /usr/local/lib/python3.10/dist-packages (from transformers) (1.23.5)\n",
            "Requirement already satisfied: packaging>=20.0 in /usr/local/lib/python3.10/dist-packages (from transformers) (23.1)\n",
            "Requirement already satisfied: pyyaml>=5.1 in /usr/local/lib/python3.10/dist-packages (from transformers) (6.0.1)\n",
            "Requirement already satisfied: regex!=2019.12.17 in /usr/local/lib/python3.10/dist-packages (from transformers) (2023.6.3)\n",
            "Requirement already satisfied: requests in /usr/local/lib/python3.10/dist-packages (from transformers) (2.31.0)\n",
            "Collecting tokenizers!=0.11.3,<0.14,>=0.11.1 (from transformers)\n",
            "  Downloading tokenizers-0.13.3-cp310-cp310-manylinux_2_17_x86_64.manylinux2014_x86_64.whl (7.8 MB)\n",
            "\u001b[2K     \u001b[90m━━━━━━━━━━━━━━━━━━━━━━━━━━━━━━━━━━━━━━━━\u001b[0m \u001b[32m7.8/7.8 MB\u001b[0m \u001b[31m102.2 MB/s\u001b[0m eta \u001b[36m0:00:00\u001b[0m\n",
            "\u001b[?25hCollecting safetensors>=0.3.1 (from transformers)\n",
            "  Downloading safetensors-0.3.3-cp310-cp310-manylinux_2_17_x86_64.manylinux2014_x86_64.whl (1.3 MB)\n",
            "\u001b[2K     \u001b[90m━━━━━━━━━━━━━━━━━━━━━━━━━━━━━━━━━━━━━━━━\u001b[0m \u001b[32m1.3/1.3 MB\u001b[0m \u001b[31m75.2 MB/s\u001b[0m eta \u001b[36m0:00:00\u001b[0m\n",
            "\u001b[?25hRequirement already satisfied: tqdm>=4.27 in /usr/local/lib/python3.10/dist-packages (from transformers) (4.66.1)\n",
            "Requirement already satisfied: python-dateutil>=2.8.1 in /usr/local/lib/python3.10/dist-packages (from pandas) (2.8.2)\n",
            "Requirement already satisfied: pytz>=2020.1 in /usr/local/lib/python3.10/dist-packages (from pandas) (2023.3.post1)\n",
            "Requirement already satisfied: lxml>=2.3.2 in /usr/local/lib/python3.10/dist-packages (from python-docx) (4.9.3)\n",
            "Collecting pdfminer.six==20221105 (from pdfplumber)\n",
            "  Downloading pdfminer.six-20221105-py3-none-any.whl (5.6 MB)\n",
            "\u001b[2K     \u001b[90m━━━━━━━━━━━━━━━━━━━━━━━━━━━━━━━━━━━━━━━━\u001b[0m \u001b[32m5.6/5.6 MB\u001b[0m \u001b[31m107.2 MB/s\u001b[0m eta \u001b[36m0:00:00\u001b[0m\n",
            "\u001b[?25hRequirement already satisfied: Pillow>=9.1 in /usr/local/lib/python3.10/dist-packages (from pdfplumber) (9.4.0)\n",
            "Collecting pypdfium2>=4.18.0 (from pdfplumber)\n",
            "  Downloading pypdfium2-4.20.0-py3-none-manylinux_2_17_x86_64.whl (3.0 MB)\n",
            "\u001b[2K     \u001b[90m━━━━━━━━━━━━━━━━━━━━━━━━━━━━━━━━━━━━━━━━\u001b[0m \u001b[32m3.0/3.0 MB\u001b[0m \u001b[31m79.6 MB/s\u001b[0m eta \u001b[36m0:00:00\u001b[0m\n",
            "\u001b[?25hRequirement already satisfied: charset-normalizer>=2.0.0 in /usr/local/lib/python3.10/dist-packages (from pdfminer.six==20221105->pdfplumber) (3.2.0)\n",
            "Requirement already satisfied: cryptography>=36.0.0 in /usr/local/lib/python3.10/dist-packages (from pdfminer.six==20221105->pdfplumber) (41.0.3)\n",
            "Requirement already satisfied: beautifulsoup4 in /usr/local/lib/python3.10/dist-packages (from bs4) (4.11.2)\n",
            "Requirement already satisfied: fsspec in /usr/local/lib/python3.10/dist-packages (from huggingface-hub<1.0,>=0.15.1->transformers) (2023.6.0)\n",
            "Requirement already satisfied: six>=1.5 in /usr/local/lib/python3.10/dist-packages (from python-dateutil>=2.8.1->pandas) (1.16.0)\n",
            "Requirement already satisfied: soupsieve>1.2 in /usr/local/lib/python3.10/dist-packages (from beautifulsoup4->bs4) (2.5)\n",
            "Requirement already satisfied: MarkupSafe>=2.0 in /usr/local/lib/python3.10/dist-packages (from jinja2->torch) (2.1.3)\n",
            "Requirement already satisfied: idna<4,>=2.5 in /usr/local/lib/python3.10/dist-packages (from requests->transformers) (3.4)\n",
            "Requirement already satisfied: urllib3<3,>=1.21.1 in /usr/local/lib/python3.10/dist-packages (from requests->transformers) (2.0.4)\n",
            "Requirement already satisfied: certifi>=2017.4.17 in /usr/local/lib/python3.10/dist-packages (from requests->transformers) (2023.7.22)\n",
            "Requirement already satisfied: mpmath>=0.19 in /usr/local/lib/python3.10/dist-packages (from sympy->torch) (1.3.0)\n",
            "Requirement already satisfied: cffi>=1.12 in /usr/local/lib/python3.10/dist-packages (from cryptography>=36.0.0->pdfminer.six==20221105->pdfplumber) (1.15.1)\n",
            "Requirement already satisfied: pycparser in /usr/local/lib/python3.10/dist-packages (from cffi>=1.12->cryptography>=36.0.0->pdfminer.six==20221105->pdfplumber) (2.21)\n",
            "Building wheels for collected packages: python-docx, bs4\n",
            "  Building wheel for python-docx (setup.py) ... \u001b[?25l\u001b[?25hdone\n",
            "  Created wheel for python-docx: filename=python_docx-0.8.11-py3-none-any.whl size=184487 sha256=49859f396f22202b0f301b16dd24846d83e04102ce3a9a6bda386d0db0a9db42\n",
            "  Stored in directory: /root/.cache/pip/wheels/80/27/06/837436d4c3bd989b957a91679966f207bfd71d358d63a8194d\n",
            "  Building wheel for bs4 (setup.py) ... \u001b[?25l\u001b[?25hdone\n",
            "  Created wheel for bs4: filename=bs4-0.0.1-py3-none-any.whl size=1256 sha256=30b944c9cd34a25478a422c18b2f11a9b407f71d089b8668d1654cdacacd55d6\n",
            "  Stored in directory: /root/.cache/pip/wheels/25/42/45/b773edc52acb16cd2db4cf1a0b47117e2f69bb4eb300ed0e70\n",
            "Successfully built python-docx bs4\n",
            "Installing collected packages: tokenizers, safetensors, python-docx, pypdfium2, huggingface-hub, bs4, transformers, pdfminer.six, pdfplumber\n",
            "Successfully installed bs4-0.0.1 huggingface-hub-0.17.3 pdfminer.six-20221105 pdfplumber-0.10.2 pypdfium2-4.20.0 python-docx-0.8.11 safetensors-0.3.3 tokenizers-0.13.3 transformers-4.33.3\n"
          ]
        }
      ],
      "source": [
        "!mkdir scibert_single_label_model\n",
        "# !wget https://ctidtram.blob.core.windows.net/tram-models/single-label-202308303/config.json -O scibert_single_label_model/config.json\n",
        "# !wget https://ctidtram.blob.core.windows.net/tram-models/single-label-202308303/pytorch_model.bin -O scibert_single_label_model/pytorch_model.bin\n",
        "!pip install torch transformers pandas python-docx pdfplumber bs4"
      ]
    },
    {
      "cell_type": "code",
      "source": [
        "!pip install --upgrade --no-cache-dir gdown"
      ],
      "metadata": {
        "colab": {
          "base_uri": "https://localhost:8080/"
        },
        "id": "q6OOcmZceVyd",
        "outputId": "d9bd6223-906a-405a-d805-ed00cf06f78b"
      },
      "id": "q6OOcmZceVyd",
      "execution_count": 2,
      "outputs": [
        {
          "output_type": "stream",
          "name": "stdout",
          "text": [
            "Requirement already satisfied: gdown in /usr/local/lib/python3.10/dist-packages (4.6.6)\n",
            "Collecting gdown\n",
            "  Downloading gdown-4.7.1-py3-none-any.whl (15 kB)\n",
            "Requirement already satisfied: filelock in /usr/local/lib/python3.10/dist-packages (from gdown) (3.12.2)\n",
            "Requirement already satisfied: requests[socks] in /usr/local/lib/python3.10/dist-packages (from gdown) (2.31.0)\n",
            "Requirement already satisfied: six in /usr/local/lib/python3.10/dist-packages (from gdown) (1.16.0)\n",
            "Requirement already satisfied: tqdm in /usr/local/lib/python3.10/dist-packages (from gdown) (4.66.1)\n",
            "Requirement already satisfied: beautifulsoup4 in /usr/local/lib/python3.10/dist-packages (from gdown) (4.11.2)\n",
            "Requirement already satisfied: soupsieve>1.2 in /usr/local/lib/python3.10/dist-packages (from beautifulsoup4->gdown) (2.5)\n",
            "Requirement already satisfied: charset-normalizer<4,>=2 in /usr/local/lib/python3.10/dist-packages (from requests[socks]->gdown) (3.2.0)\n",
            "Requirement already satisfied: idna<4,>=2.5 in /usr/local/lib/python3.10/dist-packages (from requests[socks]->gdown) (3.4)\n",
            "Requirement already satisfied: urllib3<3,>=1.21.1 in /usr/local/lib/python3.10/dist-packages (from requests[socks]->gdown) (2.0.4)\n",
            "Requirement already satisfied: certifi>=2017.4.17 in /usr/local/lib/python3.10/dist-packages (from requests[socks]->gdown) (2023.7.22)\n",
            "Requirement already satisfied: PySocks!=1.5.7,>=1.5.6 in /usr/local/lib/python3.10/dist-packages (from requests[socks]->gdown) (1.7.1)\n",
            "Installing collected packages: gdown\n",
            "  Attempting uninstall: gdown\n",
            "    Found existing installation: gdown 4.6.6\n",
            "    Uninstalling gdown-4.6.6:\n",
            "      Successfully uninstalled gdown-4.6.6\n",
            "Successfully installed gdown-4.7.1\n"
          ]
        }
      ]
    },
    {
      "cell_type": "code",
      "source": [
        "import gdown\n",
        "\n",
        "# For the trained PyTorch model, with cti-to-mitre-with-nlp dataset.\n",
        "# url = 'https://drive.google.com/file/d/1fQy0wPxafbOqb7Zjhl9nfRkGIaaTt1QN/view?usp=drive_link'\n",
        "# output_path = 'scibert_single_label_model/pytorch_model.bin'\n",
        "# gdown.download(url, output_path, quiet=False,fuzzy=True)\n",
        "\n",
        "url = 'https://drive.google.com/file/d/1EhNOKtMKvdA96vQIwPrk1bom6BvENYw2/view?usp=sharing'\n",
        "output_path = 'scibert_single_label_model/config.json'\n",
        "gdown.download(url, output_path, quiet=False,fuzzy=True)"
      ],
      "metadata": {
        "colab": {
          "base_uri": "https://localhost:8080/",
          "height": 105
        },
        "id": "Qf95wCkper5N",
        "outputId": "98f38b2c-174f-440b-9234-dbcfe864db62"
      },
      "id": "Qf95wCkper5N",
      "execution_count": 17,
      "outputs": [
        {
          "output_type": "stream",
          "name": "stderr",
          "text": [
            "Downloading...\n",
            "From: https://drive.google.com/uc?id=1EhNOKtMKvdA96vQIwPrk1bom6BvENYw2\n",
            "To: /content/scibert_single_label_model/config.json\n",
            "100%|██████████| 385/385 [00:00<00:00, 148kB/s]\n"
          ]
        },
        {
          "output_type": "execute_result",
          "data": {
            "text/plain": [
              "'scibert_single_label_model/config.json'"
            ],
            "application/vnd.google.colaboratory.intrinsic+json": {
              "type": "string"
            }
          },
          "metadata": {},
          "execution_count": 17
        }
      ]
    },
    {
      "cell_type": "code",
      "source": [
        "url2 = 'https://drive.google.com/file/d/1_BAlQWM4LrhhPoA_r_ju7S1n-CTJmDoJ/view?usp=sharing'\n",
        "output_path2 = 'scibert_single_label_model/pytorch_model.bin'\n",
        "gdown.download(url2, output_path2, quiet=False,fuzzy=True)\n"
      ],
      "metadata": {
        "colab": {
          "base_uri": "https://localhost:8080/",
          "height": 122
        },
        "id": "pci5Utu3t2eV",
        "outputId": "8a7de1bc-318b-42c5-eeac-7934975118e3"
      },
      "id": "pci5Utu3t2eV",
      "execution_count": 18,
      "outputs": [
        {
          "output_type": "stream",
          "name": "stderr",
          "text": [
            "Downloading...\n",
            "From (uriginal): https://drive.google.com/uc?id=1_BAlQWM4LrhhPoA_r_ju7S1n-CTJmDoJ\n",
            "From (redirected): https://drive.google.com/uc?id=1_BAlQWM4LrhhPoA_r_ju7S1n-CTJmDoJ&confirm=t&uuid=7cde3161-42c8-429c-9fe7-9a01152db96a\n",
            "To: /content/scibert_single_label_model/pytorch_model.bin\n",
            "100%|██████████| 442M/442M [00:08<00:00, 49.9MB/s]\n"
          ]
        },
        {
          "output_type": "execute_result",
          "data": {
            "text/plain": [
              "'scibert_single_label_model/pytorch_model.bin'"
            ],
            "application/vnd.google.colaboratory.intrinsic+json": {
              "type": "string"
            }
          },
          "metadata": {},
          "execution_count": 18
        }
      ]
    },
    {
      "cell_type": "code",
      "execution_count": 19,
      "id": "52836ad6-5001-4b72-824e-4795a596ac08",
      "metadata": {
        "id": "52836ad6-5001-4b72-824e-4795a596ac08",
        "colab": {
          "base_uri": "https://localhost:8080/",
          "height": 196,
          "referenced_widgets": [
            "d4b141c4fa094fd0b9a0625513df1e00",
            "0dd06e0c015a46498e8096f4ff42a517",
            "a2a956a93d3b4dc5957401d8cbbf0dbe",
            "9db7177a8435488694c29add2cb2e628",
            "727a360f39ae409bb7928d2a02dde9b1",
            "3221b07c8c8b45009197c66d9da005f3",
            "0d9bd2be0570438a994a328b7860de2b",
            "dadc1e87df924ae99d9d9bc941abcac3",
            "fbfacfafae304b7fb1c00547703a1a3b",
            "3a368abc1130489d991c7ce1e630e19a",
            "d15812b14d7a40e8a93db0b0ab3e745e",
            "c9f30773da5a49ff96d04228829d4853"
          ]
        },
        "outputId": "00d77d1f-56ea-4dea-a031-9c38c74063d8"
      },
      "outputs": [
        {
          "output_type": "stream",
          "name": "stderr",
          "text": [
            "Some weights of BertForSequenceClassification were not initialized from the model checkpoint at scibert_single_label_model and are newly initialized: ['classifier.weight', 'classifier.bias']\n",
            "You should probably TRAIN this model on a down-stream task to be able to use it for predictions and inference.\n"
          ]
        },
        {
          "output_type": "display_data",
          "data": {
            "text/plain": [
              "FileUpload(value={}, description='Upload', multiple=True)"
            ],
            "application/vnd.jupyter.widget-view+json": {
              "version_major": 2,
              "version_minor": 0,
              "model_id": "d4b141c4fa094fd0b9a0625513df1e00"
            }
          },
          "metadata": {}
        },
        {
          "output_type": "display_data",
          "data": {
            "text/plain": [
              "BoundedIntText(value=13, description='n value:')"
            ],
            "application/vnd.jupyter.widget-view+json": {
              "version_major": 2,
              "version_minor": 0,
              "model_id": "9db7177a8435488694c29add2cb2e628"
            }
          },
          "metadata": {}
        },
        {
          "output_type": "display_data",
          "data": {
            "text/plain": [
              "BoundedIntText(value=5, description='stride size:')"
            ],
            "application/vnd.jupyter.widget-view+json": {
              "version_major": 2,
              "version_minor": 0,
              "model_id": "0d9bd2be0570438a994a328b7860de2b"
            }
          },
          "metadata": {}
        },
        {
          "output_type": "display_data",
          "data": {
            "text/plain": [
              "BoundedFloatText(value=0.8, description='probability:', step=0.1)"
            ],
            "application/vnd.jupyter.widget-view+json": {
              "version_major": 2,
              "version_minor": 0,
              "model_id": "3a368abc1130489d991c7ce1e630e19a"
            }
          },
          "metadata": {}
        }
      ],
      "source": [
        "import transformers\n",
        "import torch\n",
        "import pandas as pd\n",
        "\n",
        "pd.set_option('display.max_columns', None)\n",
        "pd.set_option('display.max_rows', None)\n",
        "pd.set_option('display.max_colwidth', None)\n",
        "\n",
        "device = torch.device('cuda' if torch.cuda.is_available() else 'cpu')\n",
        "\n",
        "bert = transformers.BertForSequenceClassification.from_pretrained('scibert_single_label_model').to(device).eval()\n",
        "tokenizer = transformers.BertTokenizer.from_pretrained('allenai/scibert_scivocab_uncased')\n",
        "\n",
        "import pandas as pd\n",
        "from tqdm import tqdm\n",
        "\n",
        "CLASSES = (\n",
        "    'T1003.001', 'T1005', 'T1012', 'T1016', 'T1021.001', 'T1027',\n",
        "    'T1033', 'T1036.005', 'T1041', 'T1047', 'T1053.005', 'T1055',\n",
        "    'T1056.001', 'T1057', 'T1059.003', 'T1068', 'T1070.004',\n",
        "    'T1071.001', 'T1072', 'T1074.001', 'T1078', 'T1082', 'T1083',\n",
        "    'T1090', 'T1095', 'T1105', 'T1106', 'T1110', 'T1112', 'T1113',\n",
        "    'T1140', 'T1190', 'T1204.002', 'T1210', 'T1218.011', 'T1219',\n",
        "    'T1484.001', 'T1518.001', 'T1543.003', 'T1547.001', 'T1548.002',\n",
        "    'T1552.001', 'T1557.001', 'T1562.001', 'T1564.001', 'T1566.001',\n",
        "    'T1569.002', 'T1570', 'T1573.001', 'T1574.002'\n",
        ")\n",
        "\n",
        "ID_TO_NAME = {\"T1055\": \"Process Injection\", \"T1110\": \"Brute Force\", \"T1055.004\": \"Asynchronous Procedure Call\", \"T1047\": \"Windows Management Instrumentation\", \"T1078\": \"Valid Accounts\", \"T1140\": \"Deobfuscate/Decode Files or Information\", \"T1016\": \"System Network Configuration Discovery\", \"T1057\": \"Process Discovery\", \"T1078.004\": \"Cloud Accounts\", \"T1518.001\": \"Security Software Discovery\", \"T1090.001\": \"Internal Proxy\", \"T1078.001\": \"Default Accounts\", \"T1071.001\": \"Web Protocols\", \"T1082\": \"System Information Discovery\", \"T1110.003\": \"Password Spraying\", \"T1484.001\": \"Group Policy Modification\", \"T1106\": \"Native API\", \"T1027.008\": \"Stripped Payloads\", \"T1548.002\": \"Bypass User Account Control\", \"T1105\": \"Ingress Tool Transfer\", \"T1033\": \"System Owner/User Discovery\", \"T1569.002\": \"Service Execution\", \"T1566.001\": \"Spearphishing Attachment\", \"T1059.003\": \"Windows Command Shell\", \"T1053.005\": \"Scheduled Task\", \"T1547.001\": \"Registry Run Keys / Startup Folder\", \"T1041\": \"Exfiltration Over C2 Channel\", \"T1210\": \"Exploitation of Remote Services\", \"T1005\": \"Data from Local System\", \"T1219\": \"Remote Access Software\", \"T1552.001\": \"Credentials In Files\", \"T1068\": \"Exploitation for Privilege Escalation\", \"T1543.003\": \"Windows Service\", \"T1570\": \"Lateral Tool Transfer\", \"T1027\": \"Obfuscated Files or Information\", \"T1113\": \"Screen Capture\", \"T1078.003\": \"Local Accounts\", \"T1012\": \"Query Registry\", \"T1055.002\": \"Portable Executable Injection\", \"T1573.001\": \"Symmetric Cryptography\", \"T1055.001\": \"Dynamic-link Library Injection\", \"T1072\": \"Software Deployment Tools\", \"T1027.001\": \"Binary Padding\", \"T1190\": \"Exploit Public-Facing Application\", \"T1218.011\": \"Rundll32\", \"T1090.003\": \"Multi-hop Proxy\", \"T1055.012\": \"Process Hollowing\", \"T1056.001\": \"Keylogging\", \"T1055.008\": \"Ptrace System Calls\", \"T1204.002\": \"Malicious File\", \"T1083\": \"File and Directory Discovery\", \"T1070.004\": \"File Deletion\", \"T1110.004\": \"Credential Stuffing\", \"T1036.005\": \"Match Legitimate Name or Location\", \"T1574.002\": \"DLL Side-Loading\", \"T1090\": \"Proxy\", \"T1027.003\": \"Steganography\", \"T1027.007\": \"Dynamic API Resolution\", \"T1074.001\": \"Local Data Staging\", \"T1090.002\": \"External Proxy\", \"T1564.001\": \"Hidden Files and Directories\", \"T1021.001\": \"Remote Desktop Protocol\", \"T1112\": \"Modify Registry\", \"T1027.005\": \"Indicator Removal from Tools\", \"T1003.001\": \"LSASS Memory\", \"T1027.002\": \"Software Packing\", \"T1090.004\": \"Domain Fronting\", \"T1562.001\": \"Disable or Modify Tools\", \"T1027.006\": \"HTML Smuggling\", \"T1095\": \"Non-Application Layer Protocol\", \"T1027.009\": \"Embedded Payloads\", \"T1078.002\": \"Domain Accounts\"}\n",
        "\n",
        "def create_subsequences(document: str, n: int = 13, stride: int = 5) -> list[str]:\n",
        "    words = document.split()\n",
        "    subsequences = [' '.join(words[i:i+n]) for i in range(0, len(words), stride)]\n",
        "    return subsequences\n",
        "\n",
        "def predict_document(document: str, threshold: float = 0.8, n: int = 13, stride: int = 5):\n",
        "    text_instances = create_subsequences(document, n, stride)\n",
        "    tokenized_instances = tokenizer(text_instances, return_tensors='pt', padding='max_length', truncation=True, max_length=512).input_ids\n",
        "\n",
        "    predictions = []\n",
        "    batch_size = 10\n",
        "    slice_starts = tqdm(list(range(0, tokenized_instances.shape[0], batch_size)))\n",
        "\n",
        "    with torch.no_grad():\n",
        "        for i in slice_starts:\n",
        "            x = tokenized_instances[i : i + batch_size].to(device)\n",
        "            out = bert(x, attention_mask=x.ne(tokenizer.pad_token_id).to(int))\n",
        "            predictions.extend(out.logits.to('cpu'))\n",
        "\n",
        "    probabilities = pd.DataFrame(\n",
        "        torch.vstack(predictions).softmax(-1),\n",
        "        columns=CLASSES,\n",
        "        index=text_instances\n",
        "    )\n",
        "\n",
        "    result: list[tuple[str, set[str]]] = [\n",
        "        (text, {ID_TO_NAME[k] + ' - ' + k for k, v in clses.items() if v})\n",
        "        for text, clses in\n",
        "        probabilities.gt(threshold).T.to_dict().items()\n",
        "    ]\n",
        "\n",
        "    result_iter = iter(result)\n",
        "    current_text, current_labels = next(result_iter)\n",
        "    overlap = n_selector.value - stride_selector.value\n",
        "    out = []\n",
        "\n",
        "    for text, labels in result_iter:\n",
        "        if labels != current_labels:\n",
        "            out.append((current_text, current_labels))\n",
        "            current_text = text\n",
        "            current_labels = labels\n",
        "            continue\n",
        "        current_text += ' ' + ' '.join(text.split()[overlap:])\n",
        "\n",
        "    out_df = pd.DataFrame(out)\n",
        "    out_df.columns = ['segment', 'label(s)']\n",
        "    return out_df\n",
        "\n",
        "import io\n",
        "import re\n",
        "import pdfplumber\n",
        "import docx\n",
        "from bs4 import BeautifulSoup\n",
        "\n",
        "def parse_text(file_name: str, content: io.BytesIO) -> str:\n",
        "    if file_name.endswith('.pdf'):\n",
        "        with pdfplumber.open(content) as pdf:\n",
        "            text = \" \".join(page.extract_text() for page in pdf.pages)\n",
        "    elif file_name.endswith('.html'):\n",
        "        text = BeautifulSoup(content.read().decode('utf-8'), features=\"html.parser\").get_text()\n",
        "    elif file_name.endswith('.txt'):\n",
        "        text = content.read().decode('utf-8')\n",
        "    elif file_name.endswith('.docx'):\n",
        "        text = \" \".join(paragraph.text for paragraph in docx.Document(content).paragraphs)\n",
        "\n",
        "    cleaned_text = re.sub(r'\\s+', ' ', text).strip()\n",
        "    return cleaned_text\n",
        "\n",
        "from ipywidgets import FileUpload\n",
        "from IPython.display import display\n",
        "\n",
        "upload = FileUpload(multiple=True)\n",
        "\n",
        "from itertools import count\n",
        "COUNT = count(1)\n",
        "\n",
        "import ipywidgets as widgets\n",
        "n_selector = widgets.BoundedIntText(value=13, min=0, step=1, description='n value:', disabled=False)\n",
        "stride_selector = widgets.BoundedIntText(value=5, min=0, step=1, description='stride size:', disabled=False)\n",
        "threshold_selector = widgets.BoundedFloatText(value=0.8, min=0, step=0.1, description='probability:', disabled=False)\n",
        "display(upload, n_selector, stride_selector, threshold_selector)"
      ]
    },
    {
      "cell_type": "markdown",
      "id": "c6cd2a2d-634e-4e9e-90a0-51d397fd38d3",
      "metadata": {
        "id": "c6cd2a2d-634e-4e9e-90a0-51d397fd38d3"
      },
      "source": [
        "Use the above button to select one or more PDF, HTML, Word, or txt files to upload.\n",
        "\n",
        "You can use the default values for n, the stride size, and the probability threshold, or set your own.\n",
        "\n",
        "- The **n value** is the number of words to include in each segment.\n",
        "- The **stride size** is the number of words apart each ngram should start. This needs to be less than the n value, or some words will be skipped\n",
        "- The **probability** is the threshold for the model. Setting a lower probability means getting more predictions, but with a lower level of confidence. If the threshold is less than 0.5, you can potentially get two predictions (or three if it's less than 0.33, etc.).\n",
        "\n",
        "When you have uploaded the files and selected the parameters, run the next cell to extract text from the files, create the ngrams, and apply the model. The results will be written to the file indicated by `output_file_name`, which you can modify."
      ]
    },
    {
      "cell_type": "code",
      "execution_count": 20,
      "id": "0c8f33d8-9c48-4cc7-a48c-807f88ad20b7",
      "metadata": {
        "colab": {
          "base_uri": "https://localhost:8080/",
          "height": 407
        },
        "id": "0c8f33d8-9c48-4cc7-a48c-807f88ad20b7",
        "outputId": "9855a379-33b8-49a4-ab99-25d345a2a97f"
      },
      "outputs": [
        {
          "output_type": "stream",
          "name": "stderr",
          "text": [
            "100%|██████████| 5/5 [00:01<00:00,  3.46it/s]\n"
          ]
        },
        {
          "output_type": "error",
          "ename": "ValueError",
          "evalue": "ignored",
          "traceback": [
            "\u001b[0;31m---------------------------------------------------------------------------\u001b[0m",
            "\u001b[0;31mValueError\u001b[0m                                Traceback (most recent call last)",
            "\u001b[0;32m<ipython-input-20-778504536c74>\u001b[0m in \u001b[0;36m<cell line: 2>\u001b[0;34m()\u001b[0m\n\u001b[1;32m      2\u001b[0m \u001b[0;32mfor\u001b[0m \u001b[0mname\u001b[0m\u001b[0;34m,\u001b[0m \u001b[0mcontent\u001b[0m \u001b[0;32min\u001b[0m \u001b[0mzip\u001b[0m\u001b[0;34m(\u001b[0m\u001b[0mupload\u001b[0m\u001b[0;34m.\u001b[0m\u001b[0mvalue\u001b[0m\u001b[0;34m,\u001b[0m \u001b[0mupload\u001b[0m\u001b[0;34m.\u001b[0m\u001b[0mdata\u001b[0m\u001b[0;34m)\u001b[0m\u001b[0;34m:\u001b[0m\u001b[0;34m\u001b[0m\u001b[0;34m\u001b[0m\u001b[0m\n\u001b[1;32m      3\u001b[0m     \u001b[0mtext\u001b[0m \u001b[0;34m=\u001b[0m \u001b[0mparse_text\u001b[0m\u001b[0;34m(\u001b[0m\u001b[0mname\u001b[0m\u001b[0;34m,\u001b[0m \u001b[0mio\u001b[0m\u001b[0;34m.\u001b[0m\u001b[0mBytesIO\u001b[0m\u001b[0;34m(\u001b[0m\u001b[0mcontent\u001b[0m\u001b[0;34m)\u001b[0m\u001b[0;34m)\u001b[0m\u001b[0;34m\u001b[0m\u001b[0;34m\u001b[0m\u001b[0m\n\u001b[0;32m----> 4\u001b[0;31m     \u001b[0mprediction_df\u001b[0m \u001b[0;34m=\u001b[0m \u001b[0mpredict_document\u001b[0m\u001b[0;34m(\u001b[0m\u001b[0mtext\u001b[0m\u001b[0;34m,\u001b[0m \u001b[0mthreshold_selector\u001b[0m\u001b[0;34m.\u001b[0m\u001b[0mvalue\u001b[0m\u001b[0;34m,\u001b[0m \u001b[0mn_selector\u001b[0m\u001b[0;34m.\u001b[0m\u001b[0mvalue\u001b[0m\u001b[0;34m,\u001b[0m \u001b[0mstride_selector\u001b[0m\u001b[0;34m.\u001b[0m\u001b[0mvalue\u001b[0m\u001b[0;34m)\u001b[0m\u001b[0;34m\u001b[0m\u001b[0;34m\u001b[0m\u001b[0m\n\u001b[0m\u001b[1;32m      5\u001b[0m     \u001b[0mprediction_df\u001b[0m\u001b[0;34m[\u001b[0m\u001b[0;34m'name'\u001b[0m\u001b[0;34m]\u001b[0m \u001b[0;34m=\u001b[0m \u001b[0mname\u001b[0m\u001b[0;34m\u001b[0m\u001b[0;34m\u001b[0m\u001b[0m\n\u001b[1;32m      6\u001b[0m     \u001b[0mdfs\u001b[0m\u001b[0;34m.\u001b[0m\u001b[0mappend\u001b[0m\u001b[0;34m(\u001b[0m\u001b[0mprediction_df\u001b[0m\u001b[0;34m)\u001b[0m\u001b[0;34m\u001b[0m\u001b[0;34m\u001b[0m\u001b[0m\n",
            "\u001b[0;32m<ipython-input-19-1d323235a903>\u001b[0m in \u001b[0;36mpredict_document\u001b[0;34m(document, threshold, n, stride)\u001b[0m\n\u001b[1;32m     48\u001b[0m             \u001b[0mpredictions\u001b[0m\u001b[0;34m.\u001b[0m\u001b[0mextend\u001b[0m\u001b[0;34m(\u001b[0m\u001b[0mout\u001b[0m\u001b[0;34m.\u001b[0m\u001b[0mlogits\u001b[0m\u001b[0;34m.\u001b[0m\u001b[0mto\u001b[0m\u001b[0;34m(\u001b[0m\u001b[0;34m'cpu'\u001b[0m\u001b[0;34m)\u001b[0m\u001b[0;34m)\u001b[0m\u001b[0;34m\u001b[0m\u001b[0;34m\u001b[0m\u001b[0m\n\u001b[1;32m     49\u001b[0m \u001b[0;34m\u001b[0m\u001b[0m\n\u001b[0;32m---> 50\u001b[0;31m     probabilities = pd.DataFrame(\n\u001b[0m\u001b[1;32m     51\u001b[0m         \u001b[0mtorch\u001b[0m\u001b[0;34m.\u001b[0m\u001b[0mvstack\u001b[0m\u001b[0;34m(\u001b[0m\u001b[0mpredictions\u001b[0m\u001b[0;34m)\u001b[0m\u001b[0;34m.\u001b[0m\u001b[0msoftmax\u001b[0m\u001b[0;34m(\u001b[0m\u001b[0;34m-\u001b[0m\u001b[0;36m1\u001b[0m\u001b[0;34m)\u001b[0m\u001b[0;34m,\u001b[0m\u001b[0;34m\u001b[0m\u001b[0;34m\u001b[0m\u001b[0m\n\u001b[1;32m     52\u001b[0m         \u001b[0mcolumns\u001b[0m\u001b[0;34m=\u001b[0m\u001b[0mCLASSES\u001b[0m\u001b[0;34m,\u001b[0m\u001b[0;34m\u001b[0m\u001b[0;34m\u001b[0m\u001b[0m\n",
            "\u001b[0;32m/usr/local/lib/python3.10/dist-packages/pandas/core/frame.py\u001b[0m in \u001b[0;36m__init__\u001b[0;34m(self, data, index, columns, dtype, copy)\u001b[0m\n\u001b[1;32m    760\u001b[0m                     )\n\u001b[1;32m    761\u001b[0m                 \u001b[0;32melse\u001b[0m\u001b[0;34m:\u001b[0m\u001b[0;34m\u001b[0m\u001b[0;34m\u001b[0m\u001b[0m\n\u001b[0;32m--> 762\u001b[0;31m                     mgr = ndarray_to_mgr(\n\u001b[0m\u001b[1;32m    763\u001b[0m                         \u001b[0mdata\u001b[0m\u001b[0;34m,\u001b[0m\u001b[0;34m\u001b[0m\u001b[0;34m\u001b[0m\u001b[0m\n\u001b[1;32m    764\u001b[0m                         \u001b[0mindex\u001b[0m\u001b[0;34m,\u001b[0m\u001b[0;34m\u001b[0m\u001b[0;34m\u001b[0m\u001b[0m\n",
            "\u001b[0;32m/usr/local/lib/python3.10/dist-packages/pandas/core/internals/construction.py\u001b[0m in \u001b[0;36mndarray_to_mgr\u001b[0;34m(values, index, columns, dtype, copy, typ)\u001b[0m\n\u001b[1;32m    347\u001b[0m     )\n\u001b[1;32m    348\u001b[0m \u001b[0;34m\u001b[0m\u001b[0m\n\u001b[0;32m--> 349\u001b[0;31m     \u001b[0m_check_values_indices_shape_match\u001b[0m\u001b[0;34m(\u001b[0m\u001b[0mvalues\u001b[0m\u001b[0;34m,\u001b[0m \u001b[0mindex\u001b[0m\u001b[0;34m,\u001b[0m \u001b[0mcolumns\u001b[0m\u001b[0;34m)\u001b[0m\u001b[0;34m\u001b[0m\u001b[0;34m\u001b[0m\u001b[0m\n\u001b[0m\u001b[1;32m    350\u001b[0m \u001b[0;34m\u001b[0m\u001b[0m\n\u001b[1;32m    351\u001b[0m     \u001b[0;32mif\u001b[0m \u001b[0mtyp\u001b[0m \u001b[0;34m==\u001b[0m \u001b[0;34m\"array\"\u001b[0m\u001b[0;34m:\u001b[0m\u001b[0;34m\u001b[0m\u001b[0;34m\u001b[0m\u001b[0m\n",
            "\u001b[0;32m/usr/local/lib/python3.10/dist-packages/pandas/core/internals/construction.py\u001b[0m in \u001b[0;36m_check_values_indices_shape_match\u001b[0;34m(values, index, columns)\u001b[0m\n\u001b[1;32m    418\u001b[0m         \u001b[0mpassed\u001b[0m \u001b[0;34m=\u001b[0m \u001b[0mvalues\u001b[0m\u001b[0;34m.\u001b[0m\u001b[0mshape\u001b[0m\u001b[0;34m\u001b[0m\u001b[0;34m\u001b[0m\u001b[0m\n\u001b[1;32m    419\u001b[0m         \u001b[0mimplied\u001b[0m \u001b[0;34m=\u001b[0m \u001b[0;34m(\u001b[0m\u001b[0mlen\u001b[0m\u001b[0;34m(\u001b[0m\u001b[0mindex\u001b[0m\u001b[0;34m)\u001b[0m\u001b[0;34m,\u001b[0m \u001b[0mlen\u001b[0m\u001b[0;34m(\u001b[0m\u001b[0mcolumns\u001b[0m\u001b[0;34m)\u001b[0m\u001b[0;34m)\u001b[0m\u001b[0;34m\u001b[0m\u001b[0;34m\u001b[0m\u001b[0m\n\u001b[0;32m--> 420\u001b[0;31m         \u001b[0;32mraise\u001b[0m \u001b[0mValueError\u001b[0m\u001b[0;34m(\u001b[0m\u001b[0;34mf\"Shape of passed values is {passed}, indices imply {implied}\"\u001b[0m\u001b[0;34m)\u001b[0m\u001b[0;34m\u001b[0m\u001b[0;34m\u001b[0m\u001b[0m\n\u001b[0m\u001b[1;32m    421\u001b[0m \u001b[0;34m\u001b[0m\u001b[0m\n\u001b[1;32m    422\u001b[0m \u001b[0;34m\u001b[0m\u001b[0m\n",
            "\u001b[0;31mValueError\u001b[0m: Shape of passed values is (49, 2), indices imply (49, 50)"
          ]
        }
      ],
      "source": [
        "dfs = []\n",
        "for name, content in zip(upload.value, upload.data):\n",
        "    text = parse_text(name, io.BytesIO(content))\n",
        "    prediction_df = predict_document(text, threshold_selector.value, n_selector.value, stride_selector.value)\n",
        "    prediction_df['name'] = name\n",
        "    dfs.append(prediction_df)\n",
        "\n",
        "predicted = pd.concat(dfs).reset_index(drop=True)\n",
        "i = next(COUNT)\n",
        "output_file_name = f\"./output-{i}.json\"\n",
        "predicted.to_json(output_file_name, orient='table')\n",
        "\n",
        "predicted"
      ]
    }
  ],
  "metadata": {
    "accelerator": "GPU",
    "colab": {
      "gpuType": "T4",
      "provenance": [],
      "include_colab_link": true
    },
    "kernelspec": {
      "display_name": "Python 3 (ipykernel)",
      "language": "python",
      "name": "python3"
    },
    "language_info": {
      "codemirror_mode": {
        "name": "ipython",
        "version": 3
      },
      "file_extension": ".py",
      "mimetype": "text/x-python",
      "name": "python",
      "nbconvert_exporter": "python",
      "pygments_lexer": "ipython3",
      "version": "3.8.10"
    },
    "widgets": {
      "application/vnd.jupyter.widget-state+json": {
        "d4b141c4fa094fd0b9a0625513df1e00": {
          "model_module": "@jupyter-widgets/controls",
          "model_name": "FileUploadModel",
          "model_module_version": "1.5.0",
          "state": {
            "_counter": 1,
            "_dom_classes": [],
            "_model_module": "@jupyter-widgets/controls",
            "_model_module_version": "1.5.0",
            "_model_name": "FileUploadModel",
            "_view_count": null,
            "_view_module": "@jupyter-widgets/controls",
            "_view_module_version": "1.5.0",
            "_view_name": "FileUploadView",
            "accept": "",
            "button_style": "",
            "data": [
              null
            ],
            "description": "Upload",
            "description_tooltip": null,
            "disabled": false,
            "error": "",
            "icon": "upload",
            "layout": "IPY_MODEL_0dd06e0c015a46498e8096f4ff42a517",
            "metadata": [
              {
                "name": "APT29.txt",
                "type": "text/plain",
                "size": 1694,
                "lastModified": 1693869390400
              }
            ],
            "multiple": true,
            "style": "IPY_MODEL_a2a956a93d3b4dc5957401d8cbbf0dbe"
          }
        },
        "0dd06e0c015a46498e8096f4ff42a517": {
          "model_module": "@jupyter-widgets/base",
          "model_name": "LayoutModel",
          "model_module_version": "1.2.0",
          "state": {
            "_model_module": "@jupyter-widgets/base",
            "_model_module_version": "1.2.0",
            "_model_name": "LayoutModel",
            "_view_count": null,
            "_view_module": "@jupyter-widgets/base",
            "_view_module_version": "1.2.0",
            "_view_name": "LayoutView",
            "align_content": null,
            "align_items": null,
            "align_self": null,
            "border": null,
            "bottom": null,
            "display": null,
            "flex": null,
            "flex_flow": null,
            "grid_area": null,
            "grid_auto_columns": null,
            "grid_auto_flow": null,
            "grid_auto_rows": null,
            "grid_column": null,
            "grid_gap": null,
            "grid_row": null,
            "grid_template_areas": null,
            "grid_template_columns": null,
            "grid_template_rows": null,
            "height": null,
            "justify_content": null,
            "justify_items": null,
            "left": null,
            "margin": null,
            "max_height": null,
            "max_width": null,
            "min_height": null,
            "min_width": null,
            "object_fit": null,
            "object_position": null,
            "order": null,
            "overflow": null,
            "overflow_x": null,
            "overflow_y": null,
            "padding": null,
            "right": null,
            "top": null,
            "visibility": null,
            "width": null
          }
        },
        "a2a956a93d3b4dc5957401d8cbbf0dbe": {
          "model_module": "@jupyter-widgets/controls",
          "model_name": "ButtonStyleModel",
          "model_module_version": "1.5.0",
          "state": {
            "_model_module": "@jupyter-widgets/controls",
            "_model_module_version": "1.5.0",
            "_model_name": "ButtonStyleModel",
            "_view_count": null,
            "_view_module": "@jupyter-widgets/base",
            "_view_module_version": "1.2.0",
            "_view_name": "StyleView",
            "button_color": null,
            "font_weight": ""
          }
        },
        "9db7177a8435488694c29add2cb2e628": {
          "model_module": "@jupyter-widgets/controls",
          "model_name": "BoundedIntTextModel",
          "model_module_version": "1.5.0",
          "state": {
            "_dom_classes": [],
            "_model_module": "@jupyter-widgets/controls",
            "_model_module_version": "1.5.0",
            "_model_name": "BoundedIntTextModel",
            "_view_count": null,
            "_view_module": "@jupyter-widgets/controls",
            "_view_module_version": "1.5.0",
            "_view_name": "IntTextView",
            "continuous_update": false,
            "description": "n value:",
            "description_tooltip": null,
            "disabled": false,
            "layout": "IPY_MODEL_727a360f39ae409bb7928d2a02dde9b1",
            "max": 100,
            "min": 0,
            "step": 1,
            "style": "IPY_MODEL_3221b07c8c8b45009197c66d9da005f3",
            "value": 13
          }
        },
        "727a360f39ae409bb7928d2a02dde9b1": {
          "model_module": "@jupyter-widgets/base",
          "model_name": "LayoutModel",
          "model_module_version": "1.2.0",
          "state": {
            "_model_module": "@jupyter-widgets/base",
            "_model_module_version": "1.2.0",
            "_model_name": "LayoutModel",
            "_view_count": null,
            "_view_module": "@jupyter-widgets/base",
            "_view_module_version": "1.2.0",
            "_view_name": "LayoutView",
            "align_content": null,
            "align_items": null,
            "align_self": null,
            "border": null,
            "bottom": null,
            "display": null,
            "flex": null,
            "flex_flow": null,
            "grid_area": null,
            "grid_auto_columns": null,
            "grid_auto_flow": null,
            "grid_auto_rows": null,
            "grid_column": null,
            "grid_gap": null,
            "grid_row": null,
            "grid_template_areas": null,
            "grid_template_columns": null,
            "grid_template_rows": null,
            "height": null,
            "justify_content": null,
            "justify_items": null,
            "left": null,
            "margin": null,
            "max_height": null,
            "max_width": null,
            "min_height": null,
            "min_width": null,
            "object_fit": null,
            "object_position": null,
            "order": null,
            "overflow": null,
            "overflow_x": null,
            "overflow_y": null,
            "padding": null,
            "right": null,
            "top": null,
            "visibility": null,
            "width": null
          }
        },
        "3221b07c8c8b45009197c66d9da005f3": {
          "model_module": "@jupyter-widgets/controls",
          "model_name": "DescriptionStyleModel",
          "model_module_version": "1.5.0",
          "state": {
            "_model_module": "@jupyter-widgets/controls",
            "_model_module_version": "1.5.0",
            "_model_name": "DescriptionStyleModel",
            "_view_count": null,
            "_view_module": "@jupyter-widgets/base",
            "_view_module_version": "1.2.0",
            "_view_name": "StyleView",
            "description_width": ""
          }
        },
        "0d9bd2be0570438a994a328b7860de2b": {
          "model_module": "@jupyter-widgets/controls",
          "model_name": "BoundedIntTextModel",
          "model_module_version": "1.5.0",
          "state": {
            "_dom_classes": [],
            "_model_module": "@jupyter-widgets/controls",
            "_model_module_version": "1.5.0",
            "_model_name": "BoundedIntTextModel",
            "_view_count": null,
            "_view_module": "@jupyter-widgets/controls",
            "_view_module_version": "1.5.0",
            "_view_name": "IntTextView",
            "continuous_update": false,
            "description": "stride size:",
            "description_tooltip": null,
            "disabled": false,
            "layout": "IPY_MODEL_dadc1e87df924ae99d9d9bc941abcac3",
            "max": 100,
            "min": 0,
            "step": 1,
            "style": "IPY_MODEL_fbfacfafae304b7fb1c00547703a1a3b",
            "value": 5
          }
        },
        "dadc1e87df924ae99d9d9bc941abcac3": {
          "model_module": "@jupyter-widgets/base",
          "model_name": "LayoutModel",
          "model_module_version": "1.2.0",
          "state": {
            "_model_module": "@jupyter-widgets/base",
            "_model_module_version": "1.2.0",
            "_model_name": "LayoutModel",
            "_view_count": null,
            "_view_module": "@jupyter-widgets/base",
            "_view_module_version": "1.2.0",
            "_view_name": "LayoutView",
            "align_content": null,
            "align_items": null,
            "align_self": null,
            "border": null,
            "bottom": null,
            "display": null,
            "flex": null,
            "flex_flow": null,
            "grid_area": null,
            "grid_auto_columns": null,
            "grid_auto_flow": null,
            "grid_auto_rows": null,
            "grid_column": null,
            "grid_gap": null,
            "grid_row": null,
            "grid_template_areas": null,
            "grid_template_columns": null,
            "grid_template_rows": null,
            "height": null,
            "justify_content": null,
            "justify_items": null,
            "left": null,
            "margin": null,
            "max_height": null,
            "max_width": null,
            "min_height": null,
            "min_width": null,
            "object_fit": null,
            "object_position": null,
            "order": null,
            "overflow": null,
            "overflow_x": null,
            "overflow_y": null,
            "padding": null,
            "right": null,
            "top": null,
            "visibility": null,
            "width": null
          }
        },
        "fbfacfafae304b7fb1c00547703a1a3b": {
          "model_module": "@jupyter-widgets/controls",
          "model_name": "DescriptionStyleModel",
          "model_module_version": "1.5.0",
          "state": {
            "_model_module": "@jupyter-widgets/controls",
            "_model_module_version": "1.5.0",
            "_model_name": "DescriptionStyleModel",
            "_view_count": null,
            "_view_module": "@jupyter-widgets/base",
            "_view_module_version": "1.2.0",
            "_view_name": "StyleView",
            "description_width": ""
          }
        },
        "3a368abc1130489d991c7ce1e630e19a": {
          "model_module": "@jupyter-widgets/controls",
          "model_name": "BoundedFloatTextModel",
          "model_module_version": "1.5.0",
          "state": {
            "_dom_classes": [],
            "_model_module": "@jupyter-widgets/controls",
            "_model_module_version": "1.5.0",
            "_model_name": "BoundedFloatTextModel",
            "_view_count": null,
            "_view_module": "@jupyter-widgets/controls",
            "_view_module_version": "1.5.0",
            "_view_name": "FloatTextView",
            "continuous_update": false,
            "description": "probability:",
            "description_tooltip": null,
            "disabled": false,
            "layout": "IPY_MODEL_d15812b14d7a40e8a93db0b0ab3e745e",
            "max": 100,
            "min": 0,
            "step": 0.1,
            "style": "IPY_MODEL_c9f30773da5a49ff96d04228829d4853",
            "value": 0.8
          }
        },
        "d15812b14d7a40e8a93db0b0ab3e745e": {
          "model_module": "@jupyter-widgets/base",
          "model_name": "LayoutModel",
          "model_module_version": "1.2.0",
          "state": {
            "_model_module": "@jupyter-widgets/base",
            "_model_module_version": "1.2.0",
            "_model_name": "LayoutModel",
            "_view_count": null,
            "_view_module": "@jupyter-widgets/base",
            "_view_module_version": "1.2.0",
            "_view_name": "LayoutView",
            "align_content": null,
            "align_items": null,
            "align_self": null,
            "border": null,
            "bottom": null,
            "display": null,
            "flex": null,
            "flex_flow": null,
            "grid_area": null,
            "grid_auto_columns": null,
            "grid_auto_flow": null,
            "grid_auto_rows": null,
            "grid_column": null,
            "grid_gap": null,
            "grid_row": null,
            "grid_template_areas": null,
            "grid_template_columns": null,
            "grid_template_rows": null,
            "height": null,
            "justify_content": null,
            "justify_items": null,
            "left": null,
            "margin": null,
            "max_height": null,
            "max_width": null,
            "min_height": null,
            "min_width": null,
            "object_fit": null,
            "object_position": null,
            "order": null,
            "overflow": null,
            "overflow_x": null,
            "overflow_y": null,
            "padding": null,
            "right": null,
            "top": null,
            "visibility": null,
            "width": null
          }
        },
        "c9f30773da5a49ff96d04228829d4853": {
          "model_module": "@jupyter-widgets/controls",
          "model_name": "DescriptionStyleModel",
          "model_module_version": "1.5.0",
          "state": {
            "_model_module": "@jupyter-widgets/controls",
            "_model_module_version": "1.5.0",
            "_model_name": "DescriptionStyleModel",
            "_view_count": null,
            "_view_module": "@jupyter-widgets/base",
            "_view_module_version": "1.2.0",
            "_view_name": "StyleView",
            "description_width": ""
          }
        }
      }
    }
  },
  "nbformat": 4,
  "nbformat_minor": 5
}